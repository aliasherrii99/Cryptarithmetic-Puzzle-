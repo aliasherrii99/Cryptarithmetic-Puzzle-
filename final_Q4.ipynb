{
 "cells": [
  {
   "cell_type": "markdown",
   "id": "6aab6fea",
   "metadata": {},
   "source": [
    "# Q_4"
   ]
  },
  {
   "cell_type": "code",
   "execution_count": 5,
   "id": "7cb96f92",
   "metadata": {},
   "outputs": [
    {
     "name": "stderr",
     "output_type": "stream",
     "text": [
      "No artists with labels found to put in legend.  Note that artists whose label start with an underscore are ignored when legend() is called with no argument.\n"
     ]
    },
    {
     "data": {
      "image/png": "[encoded data removed]",
      "text/plain": [
       "<Figure size 640x480 with 1 Axes>"
      ]
     },
     "metadata": {},
     "output_type": "display_data"
    },
    {
     "name": "stdout",
     "output_type": "stream",
     "text": [
      "best solution : \n",
      "{'S': 9, 'E': 2, 'N': 3, 'D': 5, 'M': 1, 'O': 0, 'R': 9, 'Y': 7}\n",
      "fitness : 0\n",
      " 1: {'S': 9, 'E': 2, 'N': 3, 'D': 5, 'M': 1, 'O': 0, 'R': 9, 'Y': 7}, fitness : 0 \n",
      " 2: {'S': 6, 'E': 5, 'N': 2, 'D': 3, 'M': 0, 'O': 7, 'R': 3, 'Y': 8}, fitness : 0 \n",
      " 3: {'S': 3, 'E': 9, 'N': 3, 'D': 1, 'M': 0, 'O': 4, 'R': 8, 'Y': 8}, fitness : 22 \n",
      " 4: {'S': 3, 'E': 5, 'N': 9, 'D': 1, 'M': 0, 'O': 3, 'R': 6, 'Y': 7}, fitness : 1 \n",
      " 5: {'S': 2, 'E': 5, 'N': 8, 'D': 6, 'M': 0, 'O': 2, 'R': 7, 'Y': 8}, fitness : 3 \n",
      " 6: {'S': 8, 'E': 5, 'N': 4, 'D': 1, 'M': 0, 'O': 9, 'R': 1, 'Y': 6}, fitness : 0 \n",
      " 7: {'S': 4, 'E': 7, 'N': 2, 'D': 3, 'M': 0, 'O': 5, 'R': 5, 'Y': 9}, fitness : 1 \n",
      " 8: {'S': 2, 'E': 8, 'N': 1, 'D': 9, 'M': 0, 'O': 3, 'R': 5, 'Y': 2}, fitness : 5 \n",
      " 9: {'S': 3, 'E': 7, 'N': 1, 'D': 9, 'M': 0, 'O': 4, 'R': 5, 'Y': 6}, fitness : 0 \n",
      " 10: {'S': 8, 'E': 7, 'N': 6, 'D': 3, 'M': 0, 'O': 9, 'R': 1, 'Y': 9}, fitness : 1 \n",
      " 11: {'S': 4, 'E': 7, 'N': 2, 'D': 7, 'M': 0, 'O': 5, 'R': 4, 'Y': 4}, fitness : 0 \n",
      " 12: {'S': 4, 'E': 2, 'N': 7, 'D': 5, 'M': 0, 'O': 4, 'R': 5, 'Y': 6}, fitness : 1 \n",
      " 13: {'S': 6, 'E': 2, 'N': 9, 'D': 4, 'M': 0, 'O': 6, 'R': 3, 'Y': 6}, fitness : 0 \n",
      " 14: {'S': 5, 'E': 6, 'N': 2, 'D': 3, 'M': 0, 'O': 6, 'R': 4, 'Y': 9}, fitness : 0 \n",
      " 15: {'S': 3, 'E': 1, 'N': 5, 'D': 6, 'M': 0, 'O': 3, 'R': 6, 'Y': 7}, fitness : 0 \n",
      " 16: {'S': 5, 'E': 1, 'N': 7, 'D': 8, 'M': 0, 'O': 5, 'R': 5, 'Y': 9}, fitness : 10 \n",
      " 17: {'S': 7, 'E': 6, 'N': 4, 'D': 3, 'M': 0, 'O': 8, 'R': 2, 'Y': 9}, fitness : 0 \n",
      " 18: {'S': 2, 'E': 5, 'N': 8, 'D': 9, 'M': 0, 'O': 2, 'R': 6, 'Y': 4}, fitness : 0 \n",
      " 19: {'S': 2, 'E': 6, 'N': 9, 'D': 7, 'M': 0, 'O': 2, 'R': 6, 'Y': 3}, fitness : 0 \n",
      " 20: {'S': 9, 'E': 8, 'N': 9, 'D': 6, 'M': 1, 'O': 0, 'R': 8, 'Y': 4}, fitness : 0 \n"
     ]
    }
   ],
   "source": [
    "import random\n",
    "import matplotlib.pyplot as plt\n",
    "\n",
    "letters = 'SENDMORY'\n",
    "\n",
    "def to_number(mapping, word):\n",
    "    return int(''.join(str(mapping[letter]) for letter in word))\n",
    "\n",
    "def fitness(mapping):\n",
    "    send = to_number(mapping, 'SEND')\n",
    "    more = to_number(mapping, 'MORE')\n",
    "    money = to_number(mapping, 'MONEY')\n",
    "    return abs((send + more) - money)\n",
    "\n",
    "def generate_individual():\n",
    "    digits = list(range(10))\n",
    "    random.shuffle(digits)\n",
    "    return {letters[i]: digits[i] for i in range(len(letters))}\n",
    "\n",
    "def mutate(individual):\n",
    "    mutated = individual.copy()\n",
    "    a, b = random.sample(letters, 2)\n",
    "    mutated[a], mutated[b] = mutated[b], mutated[a]\n",
    "    return mutated\n",
    "\n",
    "def crossover(parent1, parent2):\n",
    "    crossover_point = random.randint(1, len(letters) - 1)\n",
    "    child1 = {}\n",
    "    child2 = {}\n",
    "    for i in range(crossover_point):\n",
    "        child1[letters[i]] = parent1[letters[i]]\n",
    "        child2[letters[i]] = parent2[letters[i]]\n",
    "    for i in range(crossover_point, len(letters)):\n",
    "        child1[letters[i]] = parent2[letters[i]]\n",
    "        child2[letters[i]] = parent1[letters[i]]\n",
    "    return child1, child2\n",
    "\n",
    "def tournament_selection(population, fitnesses, tournament_size):\n",
    "    selected = random.sample(list(population.keys()), tournament_size)\n",
    "    best_individual = min(selected, key=lambda ind: fitnesses[ind])\n",
    "    return best_individual\n",
    "\n",
    "\n",
    "population_size = 500\n",
    "generations = 300\n",
    "tournament_size = 50\n",
    "mutation_rate = 0.01\n",
    "repeats = 20  \n",
    "\n",
    "def run_evolutionary_algorithm():\n",
    "    population = {i: generate_individual() for i in range(population_size)}\n",
    "    fitnesses = {i: fitness(population[i]) for i in range(population_size)}\n",
    "    best_individual = min(fitnesses, key=fitnesses.get)\n",
    "    fitness_history = []\n",
    "\n",
    "    for generation in range(generations):\n",
    "        new_population = {}\n",
    "        for i in range(population_size // 2):\n",
    "            parent1 = population[tournament_selection(population, fitnesses, tournament_size)]\n",
    "            parent2 = population[tournament_selection(population, fitnesses, tournament_size)]\n",
    "            child1, child2 = crossover(parent1, parent2)\n",
    "            if random.random() < mutation_rate:\n",
    "                child1 = mutate(child1)\n",
    "            if random.random() < mutation_rate:\n",
    "                child2 = mutate(child2)\n",
    "            new_population[2 * i] = child1\n",
    "            new_population[2 * i + 1] = child2\n",
    "        population = new_population\n",
    "        fitnesses = {i: fitness(population[i]) for i in range(population_size)}\n",
    "        best_individual = min(fitnesses, key=fitnesses.get)\n",
    "        fitness_history.append(fitnesses[best_individual])\n",
    "        if fitnesses[best_individual] == 0:\n",
    "            break\n",
    "\n",
    "    return population[best_individual], fitnesses[best_individual], generation, fitness_history\n",
    "\n",
    "best_solutions = []\n",
    "\n",
    "for i in range(repeats):\n",
    "    best_solution, best_fitness, gen, fitness_history = run_evolutionary_algorithm()\n",
    "    best_solutions.append((best_solution, best_fitness, gen, fitness_history))\n",
    "    plt.plot(range(len(fitness_history)), fitness_history)\n",
    "\n",
    "plt.xlabel('number of generate :')\n",
    "plt.ylabel('fitness')\n",
    "\n",
    "plt.legend()\n",
    "plt.show()\n",
    "\n",
    "overall_best_solution = min(best_solutions, key=lambda x: x[1])\n",
    "\n",
    "print(\"best solution : \")\n",
    "print(overall_best_solution[0])\n",
    "print(\"fitness :\", overall_best_solution[1])\n",
    "\n",
    "for i, (solution, fitness_value, gen, _) in enumerate(best_solutions):\n",
    "    print(f' {i+1}: {solution}, fitness : {fitness_value} ')\n"
   ]
  }
 ],
 "metadata": {
  "kernelspec": {
   "display_name": "Python 3 (ipykernel)",
   "language": "python",
   "name": "python3"
  },
  "language_info": {
   "codemirror_mode": {
    "name": "ipython",
    "version": 3
   },
   "file_extension": ".py",
   "mimetype": "text/x-python",
   "name": "python",
   "nbconvert_exporter": "python",
   "pygments_lexer": "ipython3",
   "version": "3.11.5"
  }
 },
 "nbformat": 4,
 "nbformat_minor": 5
}
